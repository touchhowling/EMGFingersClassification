{
 "cells": [
  {
   "cell_type": "code",
   "execution_count": 61,
   "metadata": {},
   "outputs": [],
   "source": [
    "import os\n",
    "import pandas as pd\n",
    "import numpy as np\n",
    "from datetime import datetime\n",
    "\n",
    "import imblearn\n",
    "\n",
    "import tensorflow as tf\n",
    "from tensorboard.plugins.hparams import api as hp\n",
    "\n",
    "from sklearn.model_selection import StratifiedKFold, train_test_split\n",
    "from sklearn.preprocessing import StandardScaler\n",
    "from sklearn.metrics import accuracy_score"
   ]
  },
  {
   "cell_type": "code",
   "execution_count": 62,
   "metadata": {},
   "outputs": [
    {
     "name": "stdout",
     "output_type": "stream",
     "text": [
      "     Unnamed: 0  ch0_mav  ch0_wl     ch0_rms      ch0_var  ch1_mav  ch1_wl  \\\n",
      "0             0  215.180     789  229.430678  6336.003600   45.124     149   \n",
      "1             1  102.624     474  106.508366   812.346624   51.236     179   \n",
      "2             2  108.536     506  128.786148  4805.808704   22.924      94   \n",
      "3             3  115.560     570  120.728886  1221.350400   29.668     128   \n",
      "4             4  133.360     573  135.344065   533.126400   39.956     136   \n",
      "..          ...      ...     ...         ...          ...      ...     ...   \n",
      "445          93   64.290      88   64.588466    38.465900    6.290      16   \n",
      "446          94   58.170      79   58.263797    10.921100    4.500       2   \n",
      "447          95   39.770      67   39.846330     6.077100    4.430       4   \n",
      "448          96   85.070      84   85.189143    20.285100    4.600       6   \n",
      "449          97   42.380      67   43.600229   104.915600    6.590      14   \n",
      "\n",
      "       ch1_rms     ch1_var  ch2_mav  ...    ch2_var  ch3_mav  ch3_wl  \\\n",
      "0    46.386075  115.492624   25.492  ...  23.049936   10.796      40   \n",
      "1    53.681393  256.564304   21.780  ...  23.315600    7.988      32   \n",
      "2    23.372890   20.782224   18.236  ...  28.748304    4.800      25   \n",
      "3    30.326292   39.493776   21.516  ...  25.577744    9.400      43   \n",
      "4    40.600148   51.890064   27.160  ...   6.326400    7.848      42   \n",
      "..         ...         ...      ...  ...        ...      ...     ...   \n",
      "445   6.416385    1.605900    6.230  ...   0.257100    4.460       8   \n",
      "446   4.527693    0.250000    4.380  ...   0.335600    2.740       5   \n",
      "447   4.464303    0.305100    5.250  ...   0.867500    2.650       3   \n",
      "448   4.628175    0.260000    4.040  ...   0.438400    3.730      12   \n",
      "449   6.803675    2.861900    7.850  ...   4.047500    2.640      11   \n",
      "\n",
      "       ch3_rms    ch3_var  ch4_mav  ch4_wl     ch4_rms      ch4_var     label  \n",
      "0    11.267120  10.394384  270.628     963  283.501951  7133.841616     thumb  \n",
      "1     8.156225   2.715856  233.936     811  242.859564  4254.715904     thumb  \n",
      "2     4.877704   0.752000  104.428     470  108.649731   899.556816     thumb  \n",
      "3     9.878866   9.232000  223.108     837  233.069183  4544.064336     thumb  \n",
      "4     8.006997   2.520896  179.916     744  183.456927  1286.676944     thumb  \n",
      "..         ...        ...      ...     ...         ...          ...       ...  \n",
      "445   4.549725   0.808400    4.990       5    5.246904     2.629900  baseline  \n",
      "446   2.774887   0.192400    4.480       7    4.507771     0.249600  baseline  \n",
      "447   2.700000   0.267500    3.900      15    3.977436     0.610000  baseline  \n",
      "448   3.772267   0.317100    8.250      17    8.580793     5.567500  baseline  \n",
      "449   2.683282   0.230400    4.640      13    4.692547     0.490400  baseline  \n",
      "\n",
      "[450 rows x 22 columns]\n"
     ]
    },
    {
     "name": "stderr",
     "output_type": "stream",
     "text": [
      "<>:6: SyntaxWarning: invalid escape sequence '\\C'\n",
      "<>:6: SyntaxWarning: invalid escape sequence '\\C'\n",
      "C:\\Users\\Dev\\AppData\\Local\\Temp\\ipykernel_31548\\2016609281.py:6: SyntaxWarning: invalid escape sequence '\\C'\n",
      "  folder_path = 'FeaturesDataset\\CombinedDataset'\n"
     ]
    }
   ],
   "source": [
    "import pandas as pd\n",
    "import glob\n",
    "import os\n",
    "\n",
    "# Specify the path to the folder containing CSV files\n",
    "folder_path = 'FeaturesDataset\\CombinedDataset'\n",
    "\n",
    "# Use glob to find all CSV files in the folder\n",
    "csv_files = glob.glob(os.path.join(folder_path, '*.csv'))\n",
    "\n",
    "# Read and concatenate all CSV files into a single DataFrame\n",
    "dfs = [pd.read_csv(file) for file in csv_files]\n",
    "combined_df = pd.concat(dfs, ignore_index=True)\n",
    "\n",
    "# Print the combined DataFrame\n",
    "print(combined_df)\n",
    "data=combined_df\n"
   ]
  },
  {
   "cell_type": "code",
   "execution_count": 63,
   "metadata": {},
   "outputs": [],
   "source": [
    "# data=pd.read_csv('FeaturesDataset\\CombinedDataset\\shivam -1722687950.8714266.csv')\n",
    "data=data[data.label!=\"baseline\"]"
   ]
  },
  {
   "cell_type": "code",
   "execution_count": 64,
   "metadata": {},
   "outputs": [],
   "source": [
    "label_mapping={'index': 0, 'middle': 1, 'pinky': 2, 'ring': 3, 'thumb': 4,'baseline':5}\n",
    "x_data = data.drop([\"label\"], axis=1)\n",
    "y_data = data[\"label\"]\n",
    "y_data=[label_mapping[label] for label in y_data]\n",
    "y_data=pd.DataFrame(y_data)\n",
    "\n",
    "x_data=x_data.values\n",
    "y_data=y_data.values\n",
    "\n",
    "x_trainval, x_testval, y_trainval, y_testval = train_test_split(x_data, y_data,\n",
    "                                                          test_size=0.2,\n",
    "                                                          stratify=y_data,\n",
    "                                                          random_state=1004)\n",
    "\n",
    "scaler = StandardScaler()\n",
    "scaler.fit(x_trainval)\n",
    "x_trainval = scaler.transform(x_trainval)\n",
    "x_testval = scaler.transform(x_testval)\n"
   ]
  },
  {
   "cell_type": "code",
   "execution_count": 65,
   "metadata": {},
   "outputs": [
    {
     "data": {
      "text/plain": [
       "array(['thumb', 'index', 'middle', 'ring', 'pinky'], dtype=object)"
      ]
     },
     "execution_count": 65,
     "metadata": {},
     "output_type": "execute_result"
    }
   ],
   "source": [
    "data['label'].unique()"
   ]
  },
  {
   "cell_type": "markdown",
   "metadata": {},
   "source": [
    "### SVC"
   ]
  },
  {
   "cell_type": "code",
   "execution_count": 59,
   "metadata": {},
   "outputs": [],
   "source": [
    "from sklearn.metrics import confusion_matrix\n",
    "from sklearn.metrics import accuracy_score\n",
    "from sklearn.metrics import f1_score\n",
    "from sklearn.metrics import recall_score\n",
    "from sklearn.metrics import precision_score\n",
    "from sklearn.metrics import classification_report\n",
    "import matplotlib.pyplot as plt\n",
    "import seaborn as sn\n",
    "def metrics(Y_validation,predictions):\n",
    "    labels = list(label_mapping.keys())\n",
    "    print('Accuracy:', accuracy_score(Y_validation, predictions))\n",
    "    print('F1 score:', f1_score(Y_validation, predictions,average='weighted'))\n",
    "    print('Recall:', recall_score(Y_validation, predictions,average='weighted'))\n",
    "    print('Precision:', precision_score(Y_validation, predictions, average='weighted'))\n",
    "    print('\\n clasification report:\\n', classification_report(Y_validation, predictions))\n",
    "    print('\\n confusion matrix:\\n',confusion_matrix(Y_validation, predictions))\n",
    "    #Creating confussion matrix\n",
    "    snn_cm = confusion_matrix(Y_validation, predictions)\n",
    "\n",
    "    # Plotting cofusion matrix\n",
    "    label_indices = [label_mapping[label] for label in labels]\n",
    "    snn_df_cm = pd.DataFrame(snn_cm, index=labels, columns=labels)\n",
    "    plt.figure(figsize = (20,14))\n",
    "    sn.set(font_scale=1.4) #for label size\n",
    "    sn.heatmap(snn_df_cm, annot=True, annot_kws={\"size\": 12}) # font size\n",
    "    plt.show()"
   ]
  },
  {
   "cell_type": "code",
   "execution_count": 66,
   "metadata": {},
   "outputs": [
    {
     "name": "stdout",
     "output_type": "stream",
     "text": [
      "Accuracy: 0.43478260869565216\n",
      "F1 score: 0.4496624358628139\n",
      "Recall: 0.43478260869565216\n",
      "Precision: 0.5115753811405985\n",
      "\n",
      " clasification report:\n",
      "               precision    recall  f1-score   support\n",
      "\n",
      "           0       0.18      0.20      0.19        10\n",
      "           1       0.36      0.56      0.43         9\n",
      "           2       0.40      0.40      0.40        10\n",
      "           3       0.75      0.60      0.67        10\n",
      "           4       1.00      0.43      0.60         7\n",
      "\n",
      "    accuracy                           0.43        46\n",
      "   macro avg       0.54      0.44      0.46        46\n",
      "weighted avg       0.51      0.43      0.45        46\n",
      "\n",
      "\n",
      " confusion matrix:\n",
      " [[2 3 5 0 0]\n",
      " [2 5 1 1 0]\n",
      " [3 3 4 0 0]\n",
      " [2 2 0 6 0]\n",
      " [2 1 0 1 3]]\n"
     ]
    },
    {
     "name": "stderr",
     "output_type": "stream",
     "text": [
      "c:\\Users\\Dev\\AppData\\Local\\Programs\\Python\\Python312\\Lib\\site-packages\\sklearn\\utils\\validation.py:1339: DataConversionWarning: A column-vector y was passed when a 1d array was expected. Please change the shape of y to (n_samples, ), for example using ravel().\n",
      "  y = column_or_1d(y, warn=True)\n"
     ]
    },
    {
     "ename": "ValueError",
     "evalue": "Shape of passed values is (5, 5), indices imply (6, 6)",
     "output_type": "error",
     "traceback": [
      "\u001b[1;31m---------------------------------------------------------------------------\u001b[0m",
      "\u001b[1;31mValueError\u001b[0m                                Traceback (most recent call last)",
      "Cell \u001b[1;32mIn[66], line 5\u001b[0m\n\u001b[0;32m      3\u001b[0m svm_model\u001b[38;5;241m.\u001b[39mfit(x_trainval,y_trainval )\n\u001b[0;32m      4\u001b[0m predictions \u001b[38;5;241m=\u001b[39m svm_model\u001b[38;5;241m.\u001b[39mpredict(x_testval)\n\u001b[1;32m----> 5\u001b[0m \u001b[43mmetrics\u001b[49m\u001b[43m(\u001b[49m\u001b[43my_testval\u001b[49m\u001b[43m,\u001b[49m\u001b[43mpredictions\u001b[49m\u001b[43m)\u001b[49m\n",
      "Cell \u001b[1;32mIn[59], line 22\u001b[0m, in \u001b[0;36mmetrics\u001b[1;34m(Y_validation, predictions)\u001b[0m\n\u001b[0;32m     20\u001b[0m \u001b[38;5;66;03m# Plotting cofusion matrix\u001b[39;00m\n\u001b[0;32m     21\u001b[0m label_indices \u001b[38;5;241m=\u001b[39m [label_mapping[label] \u001b[38;5;28;01mfor\u001b[39;00m label \u001b[38;5;129;01min\u001b[39;00m labels]\n\u001b[1;32m---> 22\u001b[0m snn_df_cm \u001b[38;5;241m=\u001b[39m \u001b[43mpd\u001b[49m\u001b[38;5;241;43m.\u001b[39;49m\u001b[43mDataFrame\u001b[49m\u001b[43m(\u001b[49m\u001b[43msnn_cm\u001b[49m\u001b[43m,\u001b[49m\u001b[43m \u001b[49m\u001b[43mindex\u001b[49m\u001b[38;5;241;43m=\u001b[39;49m\u001b[43mlabels\u001b[49m\u001b[43m,\u001b[49m\u001b[43m \u001b[49m\u001b[43mcolumns\u001b[49m\u001b[38;5;241;43m=\u001b[39;49m\u001b[43mlabels\u001b[49m\u001b[43m)\u001b[49m\n\u001b[0;32m     23\u001b[0m plt\u001b[38;5;241m.\u001b[39mfigure(figsize \u001b[38;5;241m=\u001b[39m (\u001b[38;5;241m20\u001b[39m,\u001b[38;5;241m14\u001b[39m))\n\u001b[0;32m     24\u001b[0m sn\u001b[38;5;241m.\u001b[39mset(font_scale\u001b[38;5;241m=\u001b[39m\u001b[38;5;241m1.4\u001b[39m) \u001b[38;5;66;03m#for label size\u001b[39;00m\n",
      "File \u001b[1;32mc:\\Users\\Dev\\AppData\\Local\\Programs\\Python\\Python312\\Lib\\site-packages\\pandas\\core\\frame.py:827\u001b[0m, in \u001b[0;36mDataFrame.__init__\u001b[1;34m(self, data, index, columns, dtype, copy)\u001b[0m\n\u001b[0;32m    816\u001b[0m         mgr \u001b[38;5;241m=\u001b[39m dict_to_mgr(\n\u001b[0;32m    817\u001b[0m             \u001b[38;5;66;03m# error: Item \"ndarray\" of \"Union[ndarray, Series, Index]\" has no\u001b[39;00m\n\u001b[0;32m    818\u001b[0m             \u001b[38;5;66;03m# attribute \"name\"\u001b[39;00m\n\u001b[1;32m   (...)\u001b[0m\n\u001b[0;32m    824\u001b[0m             copy\u001b[38;5;241m=\u001b[39m_copy,\n\u001b[0;32m    825\u001b[0m         )\n\u001b[0;32m    826\u001b[0m     \u001b[38;5;28;01melse\u001b[39;00m:\n\u001b[1;32m--> 827\u001b[0m         mgr \u001b[38;5;241m=\u001b[39m \u001b[43mndarray_to_mgr\u001b[49m\u001b[43m(\u001b[49m\n\u001b[0;32m    828\u001b[0m \u001b[43m            \u001b[49m\u001b[43mdata\u001b[49m\u001b[43m,\u001b[49m\n\u001b[0;32m    829\u001b[0m \u001b[43m            \u001b[49m\u001b[43mindex\u001b[49m\u001b[43m,\u001b[49m\n\u001b[0;32m    830\u001b[0m \u001b[43m            \u001b[49m\u001b[43mcolumns\u001b[49m\u001b[43m,\u001b[49m\n\u001b[0;32m    831\u001b[0m \u001b[43m            \u001b[49m\u001b[43mdtype\u001b[49m\u001b[38;5;241;43m=\u001b[39;49m\u001b[43mdtype\u001b[49m\u001b[43m,\u001b[49m\n\u001b[0;32m    832\u001b[0m \u001b[43m            \u001b[49m\u001b[43mcopy\u001b[49m\u001b[38;5;241;43m=\u001b[39;49m\u001b[43mcopy\u001b[49m\u001b[43m,\u001b[49m\n\u001b[0;32m    833\u001b[0m \u001b[43m            \u001b[49m\u001b[43mtyp\u001b[49m\u001b[38;5;241;43m=\u001b[39;49m\u001b[43mmanager\u001b[49m\u001b[43m,\u001b[49m\n\u001b[0;32m    834\u001b[0m \u001b[43m        \u001b[49m\u001b[43m)\u001b[49m\n\u001b[0;32m    836\u001b[0m \u001b[38;5;66;03m# For data is list-like, or Iterable (will consume into list)\u001b[39;00m\n\u001b[0;32m    837\u001b[0m \u001b[38;5;28;01melif\u001b[39;00m is_list_like(data):\n",
      "File \u001b[1;32mc:\\Users\\Dev\\AppData\\Local\\Programs\\Python\\Python312\\Lib\\site-packages\\pandas\\core\\internals\\construction.py:336\u001b[0m, in \u001b[0;36mndarray_to_mgr\u001b[1;34m(values, index, columns, dtype, copy, typ)\u001b[0m\n\u001b[0;32m    331\u001b[0m \u001b[38;5;66;03m# _prep_ndarraylike ensures that values.ndim == 2 at this point\u001b[39;00m\n\u001b[0;32m    332\u001b[0m index, columns \u001b[38;5;241m=\u001b[39m _get_axes(\n\u001b[0;32m    333\u001b[0m     values\u001b[38;5;241m.\u001b[39mshape[\u001b[38;5;241m0\u001b[39m], values\u001b[38;5;241m.\u001b[39mshape[\u001b[38;5;241m1\u001b[39m], index\u001b[38;5;241m=\u001b[39mindex, columns\u001b[38;5;241m=\u001b[39mcolumns\n\u001b[0;32m    334\u001b[0m )\n\u001b[1;32m--> 336\u001b[0m \u001b[43m_check_values_indices_shape_match\u001b[49m\u001b[43m(\u001b[49m\u001b[43mvalues\u001b[49m\u001b[43m,\u001b[49m\u001b[43m \u001b[49m\u001b[43mindex\u001b[49m\u001b[43m,\u001b[49m\u001b[43m \u001b[49m\u001b[43mcolumns\u001b[49m\u001b[43m)\u001b[49m\n\u001b[0;32m    338\u001b[0m \u001b[38;5;28;01mif\u001b[39;00m typ \u001b[38;5;241m==\u001b[39m \u001b[38;5;124m\"\u001b[39m\u001b[38;5;124marray\u001b[39m\u001b[38;5;124m\"\u001b[39m:\n\u001b[0;32m    339\u001b[0m     \u001b[38;5;28;01mif\u001b[39;00m \u001b[38;5;28missubclass\u001b[39m(values\u001b[38;5;241m.\u001b[39mdtype\u001b[38;5;241m.\u001b[39mtype, \u001b[38;5;28mstr\u001b[39m):\n",
      "File \u001b[1;32mc:\\Users\\Dev\\AppData\\Local\\Programs\\Python\\Python312\\Lib\\site-packages\\pandas\\core\\internals\\construction.py:420\u001b[0m, in \u001b[0;36m_check_values_indices_shape_match\u001b[1;34m(values, index, columns)\u001b[0m\n\u001b[0;32m    418\u001b[0m passed \u001b[38;5;241m=\u001b[39m values\u001b[38;5;241m.\u001b[39mshape\n\u001b[0;32m    419\u001b[0m implied \u001b[38;5;241m=\u001b[39m (\u001b[38;5;28mlen\u001b[39m(index), \u001b[38;5;28mlen\u001b[39m(columns))\n\u001b[1;32m--> 420\u001b[0m \u001b[38;5;28;01mraise\u001b[39;00m \u001b[38;5;167;01mValueError\u001b[39;00m(\u001b[38;5;124mf\u001b[39m\u001b[38;5;124m\"\u001b[39m\u001b[38;5;124mShape of passed values is \u001b[39m\u001b[38;5;132;01m{\u001b[39;00mpassed\u001b[38;5;132;01m}\u001b[39;00m\u001b[38;5;124m, indices imply \u001b[39m\u001b[38;5;132;01m{\u001b[39;00mimplied\u001b[38;5;132;01m}\u001b[39;00m\u001b[38;5;124m\"\u001b[39m)\n",
      "\u001b[1;31mValueError\u001b[0m: Shape of passed values is (5, 5), indices imply (6, 6)"
     ]
    }
   ],
   "source": [
    "from sklearn.svm import SVC\n",
    "svm_model = SVC()\n",
    "svm_model.fit(x_trainval,y_trainval )\n",
    "predictions = svm_model.predict(x_testval)\n",
    "metrics(y_testval,predictions)"
   ]
  },
  {
   "cell_type": "markdown",
   "metadata": {},
   "source": [
    "### RandomForest "
   ]
  },
  {
   "cell_type": "code",
   "execution_count": 14,
   "metadata": {},
   "outputs": [
    {
     "name": "stderr",
     "output_type": "stream",
     "text": [
      "c:\\Users\\Dev\\AppData\\Local\\Programs\\Python\\Python312\\Lib\\site-packages\\sklearn\\base.py:1473: DataConversionWarning: A column-vector y was passed when a 1d array was expected. Please change the shape of y to (n_samples,), for example using ravel().\n",
      "  return fit_method(estimator, *args, **kwargs)\n",
      "c:\\Users\\Dev\\AppData\\Local\\Programs\\Python\\Python312\\Lib\\site-packages\\sklearn\\metrics\\_classification.py:1531: UndefinedMetricWarning: Precision is ill-defined and being set to 0.0 in labels with no predicted samples. Use `zero_division` parameter to control this behavior.\n",
      "  _warn_prf(average, modifier, f\"{metric.capitalize()} is\", len(result))\n",
      "c:\\Users\\Dev\\AppData\\Local\\Programs\\Python\\Python312\\Lib\\site-packages\\sklearn\\metrics\\_classification.py:1531: UndefinedMetricWarning: Precision is ill-defined and being set to 0.0 in labels with no predicted samples. Use `zero_division` parameter to control this behavior.\n",
      "  _warn_prf(average, modifier, f\"{metric.capitalize()} is\", len(result))\n",
      "c:\\Users\\Dev\\AppData\\Local\\Programs\\Python\\Python312\\Lib\\site-packages\\sklearn\\metrics\\_classification.py:1531: UndefinedMetricWarning: Precision is ill-defined and being set to 0.0 in labels with no predicted samples. Use `zero_division` parameter to control this behavior.\n",
      "  _warn_prf(average, modifier, f\"{metric.capitalize()} is\", len(result))\n",
      "c:\\Users\\Dev\\AppData\\Local\\Programs\\Python\\Python312\\Lib\\site-packages\\sklearn\\metrics\\_classification.py:1531: UndefinedMetricWarning: Precision is ill-defined and being set to 0.0 in labels with no predicted samples. Use `zero_division` parameter to control this behavior.\n",
      "  _warn_prf(average, modifier, f\"{metric.capitalize()} is\", len(result))\n"
     ]
    },
    {
     "name": "stdout",
     "output_type": "stream",
     "text": [
      "Accuracy: 0.9\n",
      "F1 score: 0.8666666666666666\n",
      "Recall: 0.9\n",
      "Precision: 0.85\n",
      "\n",
      " clasification report:\n",
      "               precision    recall  f1-score   support\n",
      "\n",
      "           0       0.00      0.00      0.00         1\n",
      "           1       1.00      1.00      1.00         1\n",
      "           2       0.50      1.00      0.67         1\n",
      "           3       1.00      1.00      1.00         1\n",
      "           4       1.00      1.00      1.00         1\n",
      "           5       1.00      1.00      1.00         5\n",
      "\n",
      "    accuracy                           0.90        10\n",
      "   macro avg       0.75      0.83      0.78        10\n",
      "weighted avg       0.85      0.90      0.87        10\n",
      "\n",
      "\n",
      " confusion matrix:\n",
      " [[0 0 1 0 0 0]\n",
      " [0 1 0 0 0 0]\n",
      " [0 0 1 0 0 0]\n",
      " [0 0 0 1 0 0]\n",
      " [0 0 0 0 1 0]\n",
      " [0 0 0 0 0 5]]\n"
     ]
    },
    {
     "data": {
      "image/png": "[encoded data removed]",
      "text/plain": [
       "<Figure size 2000x1400 with 2 Axes>"
      ]
     },
     "metadata": {},
     "output_type": "display_data"
    }
   ],
   "source": [
    "from sklearn.ensemble import RandomForestClassifier\n",
    "rf_model = RandomForestClassifier()\n",
    "rf_model.fit(x_trainval, y_trainval)\n",
    "predictions = rf_model.predict(x_testval)\n",
    "metrics(y_testval, predictions)"
   ]
  },
  {
   "cell_type": "markdown",
   "metadata": {},
   "source": [
    "### Convolutional Neural Network"
   ]
  },
  {
   "cell_type": "code",
   "execution_count": 25,
   "metadata": {},
   "outputs": [
    {
     "name": "stdout",
     "output_type": "stream",
     "text": [
      "Epoch 1/20\n"
     ]
    },
    {
     "name": "stderr",
     "output_type": "stream",
     "text": [
      "c:\\Users\\Dev\\AppData\\Local\\Programs\\Python\\Python312\\Lib\\site-packages\\keras\\src\\layers\\convolutional\\base_conv.py:107: UserWarning: Do not pass an `input_shape`/`input_dim` argument to a layer. When using Sequential models, prefer using an `Input(shape)` object as the first layer in the model instead.\n",
      "  super().__init__(activity_regularizer=activity_regularizer, **kwargs)\n"
     ]
    },
    {
     "name": "stdout",
     "output_type": "stream",
     "text": [
      "\u001b[1m3/3\u001b[0m \u001b[32m━━━━━━━━━━━━━━━━━━━━\u001b[0m\u001b[37m\u001b[0m \u001b[1m1s\u001b[0m 91ms/step - accuracy: 0.1749 - loss: 1.8230 - val_accuracy: 0.6111 - val_loss: 1.6799\n",
      "Epoch 2/20\n",
      "\u001b[1m3/3\u001b[0m \u001b[32m━━━━━━━━━━━━━━━━━━━━\u001b[0m\u001b[37m\u001b[0m \u001b[1m0s\u001b[0m 14ms/step - accuracy: 0.4694 - loss: 1.7088 - val_accuracy: 0.6667 - val_loss: 1.5645\n",
      "Epoch 3/20\n",
      "\u001b[1m3/3\u001b[0m \u001b[32m━━━━━━━━━━━━━━━━━━━━\u001b[0m\u001b[37m\u001b[0m \u001b[1m0s\u001b[0m 15ms/step - accuracy: 0.6008 - loss: 1.5659 - val_accuracy: 0.6667 - val_loss: 1.4565\n",
      "Epoch 4/20\n",
      "\u001b[1m3/3\u001b[0m \u001b[32m━━━━━━━━━━━━━━━━━━━━\u001b[0m\u001b[37m\u001b[0m \u001b[1m0s\u001b[0m 13ms/step - accuracy: 0.6385 - loss: 1.5365 - val_accuracy: 0.6667 - val_loss: 1.3504\n",
      "Epoch 5/20\n",
      "\u001b[1m3/3\u001b[0m \u001b[32m━━━━━━━━━━━━━━━━━━━━\u001b[0m\u001b[37m\u001b[0m \u001b[1m0s\u001b[0m 13ms/step - accuracy: 0.6021 - loss: 1.4152 - val_accuracy: 0.6667 - val_loss: 1.2330\n",
      "Epoch 6/20\n",
      "\u001b[1m3/3\u001b[0m \u001b[32m━━━━━━━━━━━━━━━━━━━━\u001b[0m\u001b[37m\u001b[0m \u001b[1m0s\u001b[0m 13ms/step - accuracy: 0.6086 - loss: 1.3390 - val_accuracy: 0.6667 - val_loss: 1.1029\n",
      "Epoch 7/20\n",
      "\u001b[1m3/3\u001b[0m \u001b[32m━━━━━━━━━━━━━━━━━━━━\u001b[0m\u001b[37m\u001b[0m \u001b[1m0s\u001b[0m 16ms/step - accuracy: 0.5975 - loss: 1.2167 - val_accuracy: 0.6667 - val_loss: 0.9724\n",
      "Epoch 8/20\n",
      "\u001b[1m3/3\u001b[0m \u001b[32m━━━━━━━━━━━━━━━━━━━━\u001b[0m\u001b[37m\u001b[0m \u001b[1m0s\u001b[0m 14ms/step - accuracy: 0.6229 - loss: 1.1071 - val_accuracy: 0.6667 - val_loss: 0.8542\n",
      "Epoch 9/20\n",
      "\u001b[1m3/3\u001b[0m \u001b[32m━━━━━━━━━━━━━━━━━━━━\u001b[0m\u001b[37m\u001b[0m \u001b[1m0s\u001b[0m 13ms/step - accuracy: 0.6190 - loss: 1.1048 - val_accuracy: 0.6667 - val_loss: 0.7722\n",
      "Epoch 10/20\n",
      "\u001b[1m3/3\u001b[0m \u001b[32m━━━━━━━━━━━━━━━━━━━━\u001b[0m\u001b[37m\u001b[0m \u001b[1m0s\u001b[0m 13ms/step - accuracy: 0.6638 - loss: 0.9309 - val_accuracy: 0.6667 - val_loss: 0.7219\n",
      "Epoch 11/20\n",
      "\u001b[1m3/3\u001b[0m \u001b[32m━━━━━━━━━━━━━━━━━━━━\u001b[0m\u001b[37m\u001b[0m \u001b[1m0s\u001b[0m 13ms/step - accuracy: 0.6905 - loss: 0.8707 - val_accuracy: 0.6667 - val_loss: 0.6853\n",
      "Epoch 12/20\n",
      "\u001b[1m3/3\u001b[0m \u001b[32m━━━━━━━━━━━━━━━━━━━━\u001b[0m\u001b[37m\u001b[0m \u001b[1m0s\u001b[0m 13ms/step - accuracy: 0.6983 - loss: 0.8582 - val_accuracy: 0.7222 - val_loss: 0.6541\n",
      "Epoch 13/20\n",
      "\u001b[1m3/3\u001b[0m \u001b[32m━━━━━━━━━━━━━━━━━━━━\u001b[0m\u001b[37m\u001b[0m \u001b[1m0s\u001b[0m 21ms/step - accuracy: 0.6834 - loss: 0.7983 - val_accuracy: 0.8333 - val_loss: 0.6203\n",
      "Epoch 14/20\n",
      "\u001b[1m3/3\u001b[0m \u001b[32m━━━━━━━━━━━━━━━━━━━━\u001b[0m\u001b[37m\u001b[0m \u001b[1m0s\u001b[0m 13ms/step - accuracy: 0.6404 - loss: 0.8541 - val_accuracy: 0.8333 - val_loss: 0.5938\n",
      "Epoch 15/20\n",
      "\u001b[1m3/3\u001b[0m \u001b[32m━━━━━━━━━━━━━━━━━━━━\u001b[0m\u001b[37m\u001b[0m \u001b[1m0s\u001b[0m 15ms/step - accuracy: 0.6944 - loss: 0.7587 - val_accuracy: 0.8333 - val_loss: 0.5678\n",
      "Epoch 16/20\n",
      "\u001b[1m3/3\u001b[0m \u001b[32m━━━━━━━━━━━━━━━━━━━━\u001b[0m\u001b[37m\u001b[0m \u001b[1m0s\u001b[0m 14ms/step - accuracy: 0.6931 - loss: 0.7538 - val_accuracy: 0.8333 - val_loss: 0.5527\n",
      "Epoch 17/20\n",
      "\u001b[1m3/3\u001b[0m \u001b[32m━━━━━━━━━━━━━━━━━━━━\u001b[0m\u001b[37m\u001b[0m \u001b[1m0s\u001b[0m 13ms/step - accuracy: 0.8017 - loss: 0.6587 - val_accuracy: 0.8333 - val_loss: 0.5364\n",
      "Epoch 18/20\n",
      "\u001b[1m3/3\u001b[0m \u001b[32m━━━━━━━━━━━━━━━━━━━━\u001b[0m\u001b[37m\u001b[0m \u001b[1m0s\u001b[0m 13ms/step - accuracy: 0.7451 - loss: 0.7084 - val_accuracy: 0.8333 - val_loss: 0.5187\n",
      "Epoch 19/20\n",
      "\u001b[1m3/3\u001b[0m \u001b[32m━━━━━━━━━━━━━━━━━━━━\u001b[0m\u001b[37m\u001b[0m \u001b[1m0s\u001b[0m 13ms/step - accuracy: 0.7881 - loss: 0.6460 - val_accuracy: 0.8333 - val_loss: 0.4954\n",
      "Epoch 20/20\n",
      "\u001b[1m3/3\u001b[0m \u001b[32m━━━━━━━━━━━━━━━━━━━━\u001b[0m\u001b[37m\u001b[0m \u001b[1m0s\u001b[0m 14ms/step - accuracy: 0.7842 - loss: 0.6310 - val_accuracy: 0.8333 - val_loss: 0.4742\n",
      "\u001b[1m1/1\u001b[0m \u001b[32m━━━━━━━━━━━━━━━━━━━━\u001b[0m\u001b[37m\u001b[0m \u001b[1m0s\u001b[0m 20ms/step - accuracy: 0.7000 - loss: 0.5835\n",
      "Test accuracy: 0.699999988079071\n",
      "\u001b[1m1/1\u001b[0m \u001b[32m━━━━━━━━━━━━━━━━━━━━\u001b[0m\u001b[37m\u001b[0m \u001b[1m0s\u001b[0m 72ms/step\n",
      "[[0 1 0 0 0 0]\n",
      " [0 1 0 0 0 0]\n",
      " [0 0 0 0 0 1]\n",
      " [0 0 0 1 0 0]\n",
      " [0 1 0 0 0 0]\n",
      " [0 0 0 0 0 5]]\n",
      "              precision    recall  f1-score   support\n",
      "\n",
      "       index       0.00      0.00      0.00         1\n",
      "      middle       0.33      1.00      0.50         1\n",
      "       pinky       0.00      0.00      0.00         1\n",
      "        ring       1.00      1.00      1.00         1\n",
      "       thumb       0.00      0.00      0.00         1\n",
      "    baseline       0.83      1.00      0.91         5\n",
      "\n",
      "    accuracy                           0.70        10\n",
      "   macro avg       0.36      0.50      0.40        10\n",
      "weighted avg       0.55      0.70      0.60        10\n",
      "\n"
     ]
    },
    {
     "name": "stderr",
     "output_type": "stream",
     "text": [
      "c:\\Users\\Dev\\AppData\\Local\\Programs\\Python\\Python312\\Lib\\site-packages\\sklearn\\metrics\\_classification.py:1531: UndefinedMetricWarning: Precision is ill-defined and being set to 0.0 in labels with no predicted samples. Use `zero_division` parameter to control this behavior.\n",
      "  _warn_prf(average, modifier, f\"{metric.capitalize()} is\", len(result))\n",
      "c:\\Users\\Dev\\AppData\\Local\\Programs\\Python\\Python312\\Lib\\site-packages\\sklearn\\metrics\\_classification.py:1531: UndefinedMetricWarning: Precision is ill-defined and being set to 0.0 in labels with no predicted samples. Use `zero_division` parameter to control this behavior.\n",
      "  _warn_prf(average, modifier, f\"{metric.capitalize()} is\", len(result))\n",
      "c:\\Users\\Dev\\AppData\\Local\\Programs\\Python\\Python312\\Lib\\site-packages\\sklearn\\metrics\\_classification.py:1531: UndefinedMetricWarning: Precision is ill-defined and being set to 0.0 in labels with no predicted samples. Use `zero_division` parameter to control this behavior.\n",
      "  _warn_prf(average, modifier, f\"{metric.capitalize()} is\", len(result))\n"
     ]
    }
   ],
   "source": [
    "import numpy as np\n",
    "import pandas as pd\n",
    "from sklearn.model_selection import train_test_split\n",
    "from sklearn.preprocessing import StandardScaler\n",
    "import tensorflow as tf\n",
    "from tensorflow.keras.models import Sequential\n",
    "from tensorflow.keras.layers import Conv1D, MaxPooling1D, Flatten, Dense, Dropout\n",
    "from tensorflow.keras.utils import to_categorical\n",
    "# Extract the input features and target labels\n",
    "x_train = x_trainval\n",
    "x_test = x_testval\n",
    "\n",
    "# Encode the labels to integers\n",
    "# label_encoder = LabelEncoder()\n",
    "y_train = y_trainval\n",
    "y_test = y_testval\n",
    "\n",
    "# # Convert labels to one-hot encoding\n",
    "y_train = to_categorical(y_train, num_classes=6)  # Adjust num_classes to the number of unique labels\n",
    "y_test = to_categorical(y_test, num_classes=6)\n",
    "\n",
    "# Reshape the data to match the expected input shape of Conv1D (samples, time steps, features)\n",
    "x_train = x_train.reshape(x_train.shape[0], x_train.shape[1], 1)\n",
    "x_test = x_test.reshape(x_test.shape[0], x_test.shape[1], 1)\n",
    "\n",
    "# Building the CNN model\n",
    "model = Sequential([\n",
    "    Conv1D(32, kernel_size=3, activation='relu', input_shape=(x_trainval.shape[1], 1)),\n",
    "    MaxPooling1D(pool_size=2),\n",
    "    Conv1D(64, kernel_size=3, activation='relu'),\n",
    "    MaxPooling1D(pool_size=2),\n",
    "    Flatten(),\n",
    "    Dense(128, activation='relu'),\n",
    "    Dropout(0.5),\n",
    "    Dense(6, activation='softmax')\n",
    "])\n",
    "\n",
    "# Compiling the model\n",
    "model.compile(optimizer='adam',\n",
    "              loss='categorical_crossentropy',\n",
    "              metrics=['accuracy'])\n",
    "\n",
    "# Training the model\n",
    "history = model.fit(x_train, y_train, epochs=20, batch_size=32,\n",
    "                    validation_split=0.2, verbose=1)\n",
    "\n",
    "# Evaluating the model\n",
    "test_loss, test_accuracy = model.evaluate(x_test, y_test, verbose=1)\n",
    "print(f'Test accuracy: {test_accuracy}')\n",
    "\n",
    "# Making predictions\n",
    "predictions = model.predict(x_test)\n",
    "predicted_classes = np.argmax(predictions, axis=1)\n",
    "true_classes = np.argmax(y_test, axis=1)\n",
    "\n",
    "# Confusion matrix and classification report\n",
    "from sklearn.metrics import confusion_matrix, classification_report\n",
    "print(confusion_matrix(true_classes, predicted_classes))\n",
    "print(classification_report(true_classes, predicted_classes, target_names=label_mapping.keys()))"
   ]
  }
 ],
 "metadata": {
  "kernelspec": {
   "display_name": "Python 3",
   "language": "python",
   "name": "python3"
  },
  "language_info": {
   "codemirror_mode": {
    "name": "ipython",
    "version": 3
   },
   "file_extension": ".py",
   "mimetype": "text/x-python",
   "name": "python",
   "nbconvert_exporter": "python",
   "pygments_lexer": "ipython3",
   "version": "3.12.4"
  }
 },
 "nbformat": 4,
 "nbformat_minor": 2
}
